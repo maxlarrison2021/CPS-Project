{
 "cells": [
  {
   "cell_type": "code",
   "execution_count": 1,
   "metadata": {},
   "outputs": [
    {
     "data": {
      "text/plain": [
       "<Figure size 640x480 with 1 Axes>"
      ]
     },
     "metadata": {},
     "output_type": "display_data"
    },
    {
     "data": {
      "text/plain": [
       "0.44170735000953254"
      ]
     },
     "execution_count": 1,
     "metadata": {},
     "output_type": "execute_result"
    }
   ],
   "source": [
    "#Importing necessary packages\n",
    "\n",
    "import pandas as pd\n",
    "import numpy as np\n",
    "import sklearn\n",
    "from sklearn.preprocessing import PolynomialFeatures\n",
    "from sklearn.linear_model import LinearRegression\n",
    "from sklearn.metrics import mean_squared_error, r2_score\n",
    "\n",
    "import numpy as np\n",
    "try:\n",
    "    import matplotlib.pyplot as plt\n",
    "except:\n",
    "    import matplotlib\n",
    "    matplotlib.use('Agg')\n",
    "    import matplotlib.pyplot as plt\n",
    "\n",
    "\n",
    "class PolynomialRegression():\n",
    "    def __init__(self, degree):\n",
    "        \"\"\"\n",
    "        Implement polynomial regression from scratch.\n",
    "        \n",
    "        This class takes as input \"degree\", which is the degree of the polynomial \n",
    "        used to fit the data. For example, degree = 2 would fit a polynomial of the \n",
    "        form:\n",
    "\n",
    "            ax^2 + bx + c\n",
    "        \n",
    "    \n",
    "        https://scikit-learn.org/stable/modules/generated/sklearn.preprocessing.PolynomialFeatures.html\n",
    "        https://scikit-learn.org/stable/modules/generated/sklearn.linear_model.LinearRegression.html\n",
    "        http://interactiveaudiolab.github.io/teaching/eecs349stuff/eecs349_linear_regression.pdf\n",
    "    \n",
    "      \n",
    "        Usage:\n",
    "            import numpy as np\n",
    "            \n",
    "            x = np.random.random(100)\n",
    "            y = np.random.random(100)\n",
    "            learner = PolynomialRegression(degree = 1)\n",
    "            learner.fit(x, y) # this should be pretty much a flat line\n",
    "            predicted = learner.predict(x)\n",
    "\n",
    "            new_data = np.random.random(100) + 10\n",
    "            predicted = learner.predict(new_data)\n",
    "            # confidence compares the given data with the training data\n",
    "            confidence = learner.confidence(new_data)\n",
    "\n",
    "        Args:\n",
    "            degree (int): Degree of polynomial used to fit the data.\n",
    "        \"\"\"\n",
    "        self.degree = degree\n",
    "        self.features = None\n",
    "        self.targets = None\n",
    "        self.training_data = None\n",
    "        self.weights = None\n",
    "        self.polynomial = None\n",
    "\n",
    "    def fit(self, features, targets):\n",
    "        \"\"\"\n",
    "        Fit the given data using a polynomial. The degree is given by self.degree,\n",
    "        which is set in the __init__ function of this class. \n",
    "        \n",
    "        Args:\n",
    "            features (np.ndarray): 1D array containing real-valued inputs.\n",
    "            targets (np.ndarray): 1D array containing real-valued targets.\n",
    "        Returns:\n",
    "            None (saves model and training data internally)\n",
    "        \"\"\"\n",
    "        self.features = features\n",
    "        self.targets = targets\n",
    "        self.training_data = np.array([[feature**deg for deg in range(self.degree + 1)] for feature in self.features])\n",
    "        transposed = self.training_data.transpose()\n",
    "        inverse_matrix = self.invert(np.matmul(transposed, self.training_data))\n",
    "        transposed_matrix = np.matmul(inverse_matrix, transposed)\n",
    "        self.weights = np.matmul(transposed_matrix, targets)\n",
    "        self.polynomial = np.poly1d(self.weights[::-1])\n",
    "\n",
    "    def invert(self, matrix):\n",
    "        rank = np.linalg.matrix_rank(matrix)\n",
    "        if matrix.shape[0] == matrix.shape[1] and matrix.shape[0] == rank:\n",
    "            return np.linalg.inv(matrix)\n",
    "        else:\n",
    "            self.training_data = np.array([feature + np.random.normal(0, .0000000000000000001, self.degree + 1) for feature in self.training_data])\n",
    "            transposed = self.training_data.transpose()\n",
    "            return np.linalg.inv(np.matmul(transposed, self.training_data))\n",
    "\n",
    "    def predict(self, features):\n",
    "        \"\"\"\n",
    "        Args:\n",
    "            features (np.ndarray): 1D array containing real-valued inputs.\n",
    "        Returns:\n",
    "            predictions (np.ndarray): Output of saved model on features.\n",
    "        \"\"\"\n",
    "        return np.array([self.polynomial(feature) for feature in features])\n",
    "\n",
    "    def frange(self, start, stop, step):\n",
    "        val = start\n",
    "        while val < stop:\n",
    "            yield val\n",
    "            val += step\n",
    "\n",
    "    def visualize(self, features, targets):\n",
    "        \"\"\"\n",
    "        This function produces a single plot containing a scatter plot of the\n",
    "        features and the targets, and the polynomial fit by the model is\n",
    "        graphed on top of the points.\n",
    "\n",
    "        Args:\n",
    "            features (np.ndarray): 1D array containing real-valued inputs.\n",
    "            targets (np.ndarray): 1D array containing real-valued targets.\n",
    "        Returns:\n",
    "            None (plots to the active figure)\n",
    "        \"\"\"\n",
    "        plt.scatter(features, targets, c='b')\n",
    "        x = list(self.frange(features.min(), features.max(), .01))\n",
    "        y = self.polynomial(x)\n",
    "        plt.plot(x, y, c='r')\n",
    "        plt.xlabel(\"% Students on Support Program\")\n",
    "        plt.ylabel(\"% AP Students\")\n",
    "        plt.title(\"Relationship between Student SES and AP Prevalence\")\n",
    "        plt.show()\n",
    "\n",
    "#Reading in the xls files\n",
    "df_students = pd.read_excel(io = \"AP Students.xls\", sheet_name = \"AP Students\")\n",
    "df_students.set_index(\"School ID\", inplace=True)\n",
    "\n",
    "df_exams = pd.read_excel(io = \"AP Exams.xls\")\n",
    "df_exams.set_index(\"School ID\", inplace=True)\n",
    "\n",
    "df_demographics = pd.read_excel(io = \"Demographics.xls\", sheet_name=\"Schools\")\n",
    "df_demographics.set_index(\"School ID\", inplace=True)\n",
    "\n",
    "df_metrics = pd.read_excel(io = \"Metrics.xls\")\n",
    "df_metrics.set_index(\"School ID\", inplace=True)\n",
    "\n",
    "#Dictionary with key being the school id and the values being AP Student % and Score of 3 or above respectfully\n",
    "examples = {id_num:[] for id_num in df_metrics.index}\n",
    "\n",
    "#Reading in the percentage of AP Students vs Total\n",
    "for id_number in examples.keys():\n",
    "    if id_number in df_students.index:\n",
    "        number_exams = df_students.loc[id_number][\"Number of AP Students\"]\n",
    "        number_students = df_demographics.loc[id_number][\"Total\"]\n",
    "        examples[id_number].append(number_exams / number_students)\n",
    "        percentage = df_students.loc[id_number][\"Percent of AP Students with a Score of 3 or Higher\"]\n",
    "        examples[id_number].append(percentage)\n",
    "        support_program = df_demographics.loc[id_number][\"%\"]\n",
    "        examples[id_number].append(df_demographics.loc[id_number][\"%\"])\n",
    "        examples[id_number].append((df_metrics.loc[id_number][\"Enrollments\"] / (number_students / 4)) * 100)\n",
    "    if id_number in df_metrics.index:\n",
    "        if len(examples[id_number]) != 0:\n",
    "            examples[id_number].append(df_metrics.loc[id_number][\"Enrollment Pct\"])\n",
    "\n",
    "# Cleaning data: removing empty attribute keys\n",
    "# New format looks this\n",
    "# Key : [% of AP students, % Percent of AP Students with a Score of 3 or Higher, % of Students on Support Program, , Enrollment Pct Normalized, Enrollment Pct]\n",
    "cleaned_examples = {key: value for key, value in examples.items() if len(value) != 0 and value[1] != \"*\"}\n",
    "\n",
    "def test_regressions(inputs, degree = 1):\n",
    "    '''\n",
    "    If you have more than one input ---> multivariate regression\n",
    "    If you have only one input ---> Polynomial Regression, you can choose the degree\n",
    "    '''\n",
    "    y = np.array([value[3] for key, value in cleaned_examples.items()])\n",
    "    if len(inputs) > 1:\n",
    "        x = np.array([[value[i] for i in inputs] for key, value in cleaned_examples.items()])\n",
    "        poly = PolynomialFeatures(degree = 1)\n",
    "        x_transformed = poly.fit_transform(x)\n",
    "        \n",
    "        regression = LinearRegression()\n",
    "        regression.fit(x_transformed, y)\n",
    "        predictions = regression.predict(x_transformed)\n",
    "        mse = mean_squared_error(y, predictions)\n",
    "        r_square = r2_score(y, predictions)\n",
    "        return r_square\n",
    "    else:\n",
    "        x = np.array([value[inputs[0]] for key, value in cleaned_examples.items()])\n",
    "        reg = PolynomialRegression(degree = degree)\n",
    "        reg.fit(x,y)\n",
    "        reg.visualize(x,y)\n",
    "        predictions = reg.predict(x)\n",
    "        r_square = r2_score(y, predictions)\n",
    "        return r_square\n",
    "\n",
    "inputs = [0]\n",
    "test_regressions(inputs, 1)\n",
    "\n"
   ]
  },
  {
   "cell_type": "code",
   "execution_count": 2,
   "metadata": {},
   "outputs": [
    {
     "data": {
      "text/plain": [
       "[0.5918367346938775, 34.5, 0.6888, 177.55102040816325, 87]"
      ]
     },
     "execution_count": 2,
     "metadata": {},
     "output_type": "execute_result"
    }
   ],
   "source": [
    "cleaned_examples[610402]"
   ]
  },
  {
   "cell_type": "code",
   "execution_count": 3,
   "metadata": {},
   "outputs": [
    {
     "data": {
      "image/png": "[encoded data removed]",
      "text/plain": [
       "<Figure size 432x288 with 1 Axes>"
      ]
     },
     "metadata": {
      "needs_background": "light"
     },
     "output_type": "display_data"
    },
    {
     "data": {
      "text/plain": [
       "0.48255256392119783"
      ]
     },
     "execution_count": 3,
     "metadata": {},
     "output_type": "execute_result"
    }
   ],
   "source": [
    "del cleaned_examples[610402]\n",
    "inputs = [0]\n",
    "test_regressions(inputs, 2)"
   ]
  },
  {
   "cell_type": "code",
   "execution_count": null,
   "metadata": {},
   "outputs": [],
   "source": []
  },
  {
   "cell_type": "code",
   "execution_count": null,
   "metadata": {},
   "outputs": [],
   "source": []
  },
  {
   "cell_type": "code",
   "execution_count": null,
   "metadata": {},
   "outputs": [],
   "source": []
  },
  {
   "cell_type": "code",
   "execution_count": null,
   "metadata": {},
   "outputs": [],
   "source": []
  },
  {
   "cell_type": "code",
   "execution_count": null,
   "metadata": {},
   "outputs": [],
   "source": []
  }
 ],
 "metadata": {
  "kernelspec": {
   "display_name": "Python 3",
   "language": "python",
   "name": "python3"
  },
  "language_info": {
   "codemirror_mode": {
    "name": "ipython",
    "version": 3
   },
   "file_extension": ".py",
   "mimetype": "text/x-python",
   "name": "python",
   "nbconvert_exporter": "python",
   "pygments_lexer": "ipython3",
   "version": "3.7.1"
  }
 },
 "nbformat": 4,
 "nbformat_minor": 2
}
